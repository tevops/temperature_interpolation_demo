{
 "cells": [
  {
   "cell_type": "markdown",
   "id": "4a5378e9-3c4b-421c-97a9-01157ae26c8f",
   "metadata": {},
   "source": [
    "# PART II\n",
    "\n",
    "This is a demonstration of <b>Approach I</b> described in the textual answer."
   ]
  },
  {
   "cell_type": "markdown",
   "id": "fe18f0a1-c9bb-46fd-8ae6-91f9d3027b22",
   "metadata": {},
   "source": [
    "## THE DATASETS\n",
    "\n",
    "### efficient transfomer\n",
    "Another dataset, from the [Beyond Efficient Transformer paper](https://arxiv.org/pdf/2012.07436) obtained from\n",
    "[ET REPO](https://github.com/zhouhaoyi/ETDataset)"
   ]
  },
  {
   "cell_type": "code",
   "execution_count": 1,
   "id": "e6d4e096-f9f8-41a0-8bec-57e7d8cf3d32",
   "metadata": {},
   "outputs": [],
   "source": [
    "import numpy as np\n",
    "import pandas as pd\n",
    "from matplotlib import pyplot as plt\n",
    "\n",
    "from temperature_calculator.data.preprocessing import (\n",
    "    convert_timestamp,\n",
    "    create_trainable_data,\n",
    "    generate_non_equidistant_sample\n",
    ")\n",
    "\n",
    "from temperature_calculator.models.training import (\n",
    "    train_model,\n",
    "    process_data_for_training,\n",
    ")\n",
    "\n",
    "from temperature_calculator.utils.constants import TIME, HOURS\n",
    "from temperature_calculator.utils.datasets import load_et_temperature_data"
   ]
  },
  {
   "cell_type": "code",
   "execution_count": 2,
   "id": "21a6524d-2cfa-40b6-a642-9e6bb08f2491",
   "metadata": {},
   "outputs": [
    {
     "name": "stderr",
     "output_type": "stream",
     "text": [
      "INFO:Temperature calculator:LOADING DATA FROM  datasets/ETDataset/ETT-small/ETTh1.csv\n",
      "INFO:Temperature calculator:CONVERTING TIMESTAMP TO NUMERIC\n"
     ]
    }
   ],
   "source": [
    "\n",
    "ett_data = load_et_temperature_data()\n",
    "df = convert_timestamp(\n",
    "    df=ett_data,\n",
    "    time_column_source=TIME,\n",
    "    time_column_target=HOURS,\n",
    "    verbose=True,\n",
    ")"
   ]
  },
  {
   "cell_type": "code",
   "execution_count": 3,
   "id": "30cc6985-193f-4c4a-9abd-2e9f497408a9",
   "metadata": {},
   "outputs": [
    {
     "data": {
      "text/html": [
       "<div>\n",
       "<style scoped>\n",
       "    .dataframe tbody tr th:only-of-type {\n",
       "        vertical-align: middle;\n",
       "    }\n",
       "\n",
       "    .dataframe tbody tr th {\n",
       "        vertical-align: top;\n",
       "    }\n",
       "\n",
       "    .dataframe thead th {\n",
       "        text-align: right;\n",
       "    }\n",
       "</style>\n",
       "<table border=\"1\" class=\"dataframe\">\n",
       "  <thead>\n",
       "    <tr style=\"text-align: right;\">\n",
       "      <th></th>\n",
       "      <th>time</th>\n",
       "      <th>temperature</th>\n",
       "      <th>hours</th>\n",
       "    </tr>\n",
       "  </thead>\n",
       "  <tbody>\n",
       "    <tr>\n",
       "      <th>0</th>\n",
       "      <td>2016-07-01 00:00:00</td>\n",
       "      <td>30.531000</td>\n",
       "      <td>407588.0</td>\n",
       "    </tr>\n",
       "    <tr>\n",
       "      <th>1</th>\n",
       "      <td>2016-07-01 01:00:00</td>\n",
       "      <td>27.787001</td>\n",
       "      <td>407589.0</td>\n",
       "    </tr>\n",
       "    <tr>\n",
       "      <th>2</th>\n",
       "      <td>2016-07-01 02:00:00</td>\n",
       "      <td>27.787001</td>\n",
       "      <td>407590.0</td>\n",
       "    </tr>\n",
       "    <tr>\n",
       "      <th>3</th>\n",
       "      <td>2016-07-01 03:00:00</td>\n",
       "      <td>25.044001</td>\n",
       "      <td>407591.0</td>\n",
       "    </tr>\n",
       "    <tr>\n",
       "      <th>4</th>\n",
       "      <td>2016-07-01 04:00:00</td>\n",
       "      <td>21.948000</td>\n",
       "      <td>407592.0</td>\n",
       "    </tr>\n",
       "  </tbody>\n",
       "</table>\n",
       "</div>"
      ],
      "text/plain": [
       "                  time  temperature     hours\n",
       "0  2016-07-01 00:00:00    30.531000  407588.0\n",
       "1  2016-07-01 01:00:00    27.787001  407589.0\n",
       "2  2016-07-01 02:00:00    27.787001  407590.0\n",
       "3  2016-07-01 03:00:00    25.044001  407591.0\n",
       "4  2016-07-01 04:00:00    21.948000  407592.0"
      ]
     },
     "execution_count": 3,
     "metadata": {},
     "output_type": "execute_result"
    }
   ],
   "source": [
    "df.head()"
   ]
  },
  {
   "cell_type": "markdown",
   "id": "07387b83-a5cc-4de0-8892-7a8b1a62fd9d",
   "metadata": {},
   "source": [
    "<b> Demo </b> of model input and output"
   ]
  },
  {
   "cell_type": "code",
   "execution_count": 4,
   "id": "96e9a1fd-cf83-4163-a731-7a03d19f7bd5",
   "metadata": {},
   "outputs": [],
   "source": [
    "# MASK IS USED HERE ONLY FOR DEMO PURPOSES\n",
    "from temperature_calculator.data.preprocessing import mask"
   ]
  },
  {
   "cell_type": "code",
   "execution_count": 5,
   "id": "9865d980-09c2-421f-8dec-ce600b2953a8",
   "metadata": {},
   "outputs": [
    {
     "name": "stderr",
     "output_type": "stream",
     "text": [
      "INFO:Temperature calculator:GENERATING NON-EQUIDISTANT SAMPLE\n",
      "INFO:Temperature calculator:DISTRIBUTION OF TIME GAPS\n",
      "|\tGAP\t|\tCOUNT\n",
      "------------------------------\n",
      "|\t1.0\t|\t9819\n",
      "|\t2.0\t|\t2411\n",
      "|\t3.0\t|\t628\n",
      "|\t4.0\t|\t157\n",
      "|\t5.0\t|\t34\n",
      "|\t6.0\t|\t10\n",
      "|\t7.0\t|\t5\n",
      "INFO:Temperature calculator:EXTRACTING CONTINUOUS SEQUENCES FROM NON-EQUIDISTANT DATASET\n"
     ]
    }
   ],
   "source": [
    "demo_data = create_trainable_data(\n",
    "    generate_non_equidistant_sample(\n",
    "        df=df, \n",
    "        verbose=True, \n",
    "        time_column=HOURS, \n",
    "        frac=0.75,\n",
    "    ), \n",
    "    verbose=True\n",
    ")"
   ]
  },
  {
   "cell_type": "code",
   "execution_count": 6,
   "id": "2f0b99eb-3a17-46b6-9649-00769dd990c9",
   "metadata": {},
   "outputs": [
    {
     "data": {
      "text/plain": [
       "3     417\n",
       "4     340\n",
       "5     266\n",
       "6     188\n",
       "7     129\n",
       "8     113\n",
       "9      95\n",
       "10     61\n",
       "11     53\n",
       "13     37\n",
       "12     33\n",
       "14     17\n",
       "16     13\n",
       "15     11\n",
       "17      9\n",
       "19      5\n",
       "20      5\n",
       "18      4\n",
       "21      3\n",
       "23      2\n",
       "22      2\n",
       "29      1\n",
       "Name: len_sequence, dtype: int64"
      ]
     },
     "execution_count": 6,
     "metadata": {},
     "output_type": "execute_result"
    }
   ],
   "source": [
    "demo_data.len_sequence.value_counts()"
   ]
  },
  {
   "cell_type": "code",
   "execution_count": 7,
   "id": "2d54424f-99c0-4972-9f49-7483d0d5e9b0",
   "metadata": {},
   "outputs": [],
   "source": [
    "def plot_model_input_output(ix, data, sequence_len):\n",
    "    model_output = np.array(demo_data[demo_data.len_sequence == sequence_len].temperature.values[ix])\n",
    "    model_input = mask(model_output.reshape(sequence_len,1), 0.5, sequence_len).flatten()\n",
    "    \n",
    "    plt.plot(\n",
    "        model_output, \n",
    "        label = 'model output', \n",
    "        color='lightsteelblue'\n",
    "    )\n",
    "    plt.plot(\n",
    "        np.ma.masked_where(model_input<0, model_input)-0.1, \n",
    "        label='imitiation of missing values',\n",
    "        color = 'red',\n",
    "    )\n",
    "    \n",
    "    plt.title(\"AUTOENCODER INPUT AND OUTPUT\")\n",
    "    plt.legend()\n",
    "    plt.show()"
   ]
  },
  {
   "cell_type": "code",
   "execution_count": 8,
   "id": "107476c8-c45a-4791-8ddb-30f4684c0fc2",
   "metadata": {},
   "outputs": [
    {
     "data": {
      "image/png": "[encoded data removed]",
      "text/plain": [
       "<Figure size 640x480 with 1 Axes>"
      ]
     },
     "metadata": {},
     "output_type": "display_data"
    }
   ],
   "source": [
    "plot_model_input_output(ix=10, data=demo_data, sequence_len=15)"
   ]
  },
  {
   "cell_type": "code",
   "execution_count": 9,
   "id": "f123c1e6-c32f-4139-b276-b59ba75f68eb",
   "metadata": {},
   "outputs": [
    {
     "data": {
      "image/png": "[encoded data removed]",
      "text/plain": [
       "<Figure size 640x480 with 1 Axes>"
      ]
     },
     "metadata": {},
     "output_type": "display_data"
    }
   ],
   "source": [
    "plot_model_input_output(ix=9, data=demo_data, sequence_len=15)"
   ]
  },
  {
   "cell_type": "markdown",
   "id": "6acb352d-b4fe-47ae-a8aa-2f409db473ba",
   "metadata": {},
   "source": [
    "### Actual model training part"
   ]
  },
  {
   "cell_type": "code",
   "execution_count": 10,
   "id": "d1b45b47-f2b2-47ec-b649-d093a89e28fb",
   "metadata": {},
   "outputs": [
    {
     "name": "stderr",
     "output_type": "stream",
     "text": [
      "INFO:Temperature calculator:GENERATING NON-EQUIDISTANT SAMPLE\n",
      "INFO:Temperature calculator:DISTRIBUTION OF TIME GAPS\n",
      "|\tGAP\t|\tCOUNT\n",
      "------------------------------\n",
      "|\t1.0\t|\t4331\n",
      "|\t2.0\t|\t2183\n",
      "|\t3.0\t|\t1108\n",
      "|\t4.0\t|\t586\n",
      "|\t5.0\t|\t241\n",
      "|\t6.0\t|\t123\n",
      "|\t7.0\t|\t63\n",
      "|\t8.0\t|\t37\n",
      "|\t9.0\t|\t20\n",
      "|\t10.0\t|\t7\n",
      "|\t11.0\t|\t4\n",
      "|\t13.0\t|\t3\n",
      "|\t12.0\t|\t2\n",
      "|\t14.0\t|\t1\n"
     ]
    }
   ],
   "source": [
    "trainsample = generate_non_equidistant_sample(\n",
    "        df=df, \n",
    "        verbose=True, \n",
    "        time_column=HOURS, \n",
    "        frac=0.5,\n",
    "    )\n"
   ]
  },
  {
   "cell_type": "code",
   "execution_count": 11,
   "id": "71e8731f-db40-4045-b2eb-3707cb17986c",
   "metadata": {},
   "outputs": [
    {
     "name": "stderr",
     "output_type": "stream",
     "text": [
      "INFO:Temperature calculator:EXTRACTING CONTINUOUS SEQUENCES FROM NON-EQUIDISTANT DATASET\n",
      "INFO:Temperature calculator:CREATING TRAIN DATA\n",
      "INFO:Temperature calculator:APPLYING INPUT STANDARDIZATION \n"
     ]
    }
   ],
   "source": [
    "train_data = process_data_for_training(\n",
    "    df=trainsample, \n",
    "    verbose=True, \n",
    "    len_ = 9, \n",
    "    frac=0.5,\n",
    ")"
   ]
  },
  {
   "cell_type": "code",
   "execution_count": 12,
   "id": "a1b9ed47-8bce-424c-aba3-c29681879a32",
   "metadata": {},
   "outputs": [
    {
     "name": "stderr",
     "output_type": "stream",
     "text": [
      "INFO:Temperature calculator:PREPARING TO TRAIN A MODEL ON DATA WITH SHAPE (3990, 9, 1)\n",
      "INFO:Temperature calculator:CREATING AN LSTM-AUTOENCODER WITH INPUT LEN 9\n",
      "INFO:Temperature calculator:\tRETURNING THE AUTOENCODER\n",
      "INFO:Temperature calculator:TRAINING STARTED\n"
     ]
    },
    {
     "name": "stdout",
     "output_type": "stream",
     "text": [
      "Epoch 1/10\n",
      "1330/1330 [==============================] - 5s 3ms/step - loss: 35.5677 - val_loss: 24.9865\n",
      "Epoch 2/10\n",
      "1330/1330 [==============================] - 4s 3ms/step - loss: 25.5521 - val_loss: 23.1560\n",
      "Epoch 3/10\n",
      "1330/1330 [==============================] - 4s 3ms/step - loss: 24.3485 - val_loss: 21.3978\n",
      "Epoch 4/10\n",
      "1330/1330 [==============================] - 4s 3ms/step - loss: 23.6144 - val_loss: 23.9510\n",
      "Epoch 5/10\n",
      "1330/1330 [==============================] - 4s 3ms/step - loss: 23.6037 - val_loss: 21.4302\n",
      "Epoch 6/10\n",
      "1330/1330 [==============================] - 4s 3ms/step - loss: 23.0687 - val_loss: 21.5658\n",
      "Epoch 7/10\n",
      "1330/1330 [==============================] - 4s 3ms/step - loss: 22.8692 - val_loss: 20.9234\n",
      "Epoch 8/10\n",
      "1330/1330 [==============================] - 4s 3ms/step - loss: 23.5844 - val_loss: 21.9660\n",
      "Epoch 9/10\n",
      "1330/1330 [==============================] - 4s 3ms/step - loss: 22.6764 - val_loss: 20.4684\n",
      "Epoch 10/10\n",
      "1330/1330 [==============================] - 4s 3ms/step - loss: 22.8717 - val_loss: 20.7123\n"
     ]
    },
    {
     "name": "stderr",
     "output_type": "stream",
     "text": [
      "INFO:Temperature calculator:TRAINING FINISHED\n"
     ]
    }
   ],
   "source": [
    "model = train_model(input_shape=9,\n",
    "                    batch_size=3,\n",
    "                    num_epochs=50,\n",
    "                    **train_data\n",
    "                    )"
   ]
  },
  {
   "cell_type": "code",
   "execution_count": 25,
   "id": "be619cf9-9220-40df-96b4-35aea162cd5a",
   "metadata": {},
   "outputs": [],
   "source": [
    "from temperature_calculator.data.preprocessing import split\n",
    "from temperature_calculator.data.preprocessing import split\n",
    "from temperature_calculator.utils.constants import (\n",
    "    TEMPERATURE, \n",
    "    INTERPOLATED, \n",
    "    PREDICTED,\n",
    "    HOURS,\n",
    ")\n",
    "\n",
    "\n",
    "def get_model_outputs(model, df):\n",
    "    df[HOURS] = df[HOURS].apply(int)\n",
    "    input_df = pd.DataFrame(\n",
    "        {\n",
    "            HOURS: range(\n",
    "                df.hours.min(),\n",
    "                df.hours.max(),\n",
    "                1,\n",
    "            )\n",
    "        }\n",
    "    ).merge(\n",
    "        df[[\n",
    "            HOURS,\n",
    "            TEMPERATURE,\n",
    "        ]],\n",
    "        on=HOURS,\n",
    "        how='left',\n",
    "    )\n",
    "    input_df.temperature.fillna(-10, inplace=True)\n",
    "    input_values = np.array(\n",
    "        split(\n",
    "            sequence_=input_df[TEMPERATURE].values,\n",
    "            sublen=9\n",
    "        )\n",
    "    )\n",
    "\n",
    "    result = model.predict(input_values)\n",
    "    return result, input_df"
   ]
  },
  {
   "cell_type": "code",
   "execution_count": 26,
   "id": "00ba5b2d-18ef-4a8a-bd00-84459c68ae44",
   "metadata": {},
   "outputs": [
    {
     "name": "stdout",
     "output_type": "stream",
     "text": [
      "544/544 [==============================] - 1s 2ms/step\n"
     ]
    }
   ],
   "source": [
    "results, input_df = get_model_outputs(model=model, df=trainsample)"
   ]
  },
  {
   "cell_type": "code",
   "execution_count": 29,
   "id": "1f946538-30f9-4b74-a6b2-3220b26022a4",
   "metadata": {},
   "outputs": [],
   "source": [
    "def merge_modeloutput(input_df, result):\n",
    "    result_as_df = pd.DataFrame([res.flatten() for res in result])\n",
    "    result_as_df.columns = list(map(str, result_as_df.columns))\n",
    "    prefix_ = \"output_\"\n",
    "    for shift_val in range(0, 9):\n",
    "        result_as_df[prefix_ + str(shift_val)] = result_as_df[str(shift_val)].shift(shift_val)\n",
    "        \n",
    "    input_df[PREDICTED] = result_as_df[[c for c in result_as_df.columns if prefix_ in c]].mean(axis=1)\n",
    "    input_df[INTERPOLATED] = input_df.apply(\n",
    "        lambda row: row[PREDICTED] if row[TEMPERATURE] == -10 else row[TEMPERATURE],\n",
    "        axis=1\n",
    "    )\n",
    "    return input_df\n"
   ]
  },
  {
   "cell_type": "code",
   "execution_count": 30,
   "id": "7f5b75c6-fa22-4060-b947-ec55cd102636",
   "metadata": {},
   "outputs": [],
   "source": [
    "interpolated = merge_modeloutput(input_df, results)"
   ]
  },
  {
   "cell_type": "code",
   "execution_count": 33,
   "id": "61c536e4-e3dc-4228-b7d1-b1984a756c4c",
   "metadata": {},
   "outputs": [],
   "source": [
    "interpolated.rename(columns={\"temperature\":\"input_temperature\"}, inplace=True)"
   ]
  },
  {
   "cell_type": "code",
   "execution_count": 38,
   "id": "523a83ed-c2be-4319-8e2c-81e66231d9d9",
   "metadata": {},
   "outputs": [],
   "source": [
    "final = interpolated.merge(df, on=\"hours\", how='left')[[INTERPOLATED, TEMPERATURE, HOURS, \"input_temperature\"]]"
   ]
  },
  {
   "cell_type": "code",
   "execution_count": 39,
   "id": "04accb7a-6997-4a27-9b46-21d045d35e11",
   "metadata": {},
   "outputs": [
    {
     "data": {
      "text/html": [
       "<div>\n",
       "<style scoped>\n",
       "    .dataframe tbody tr th:only-of-type {\n",
       "        vertical-align: middle;\n",
       "    }\n",
       "\n",
       "    .dataframe tbody tr th {\n",
       "        vertical-align: top;\n",
       "    }\n",
       "\n",
       "    .dataframe thead th {\n",
       "        text-align: right;\n",
       "    }\n",
       "</style>\n",
       "<table border=\"1\" class=\"dataframe\">\n",
       "  <thead>\n",
       "    <tr style=\"text-align: right;\">\n",
       "      <th></th>\n",
       "      <th>temperature_interpolated</th>\n",
       "      <th>temperature</th>\n",
       "      <th>hours</th>\n",
       "      <th>input_temperature</th>\n",
       "    </tr>\n",
       "  </thead>\n",
       "  <tbody>\n",
       "    <tr>\n",
       "      <th>0</th>\n",
       "      <td>25.044001</td>\n",
       "      <td>25.044001</td>\n",
       "      <td>407591</td>\n",
       "      <td>25.044001</td>\n",
       "    </tr>\n",
       "    <tr>\n",
       "      <th>1</th>\n",
       "      <td>9.349383</td>\n",
       "      <td>21.948000</td>\n",
       "      <td>407592</td>\n",
       "      <td>-10.000000</td>\n",
       "    </tr>\n",
       "    <tr>\n",
       "      <th>2</th>\n",
       "      <td>4.713851</td>\n",
       "      <td>21.174000</td>\n",
       "      <td>407593</td>\n",
       "      <td>-10.000000</td>\n",
       "    </tr>\n",
       "    <tr>\n",
       "      <th>3</th>\n",
       "      <td>6.637488</td>\n",
       "      <td>22.792000</td>\n",
       "      <td>407594</td>\n",
       "      <td>-10.000000</td>\n",
       "    </tr>\n",
       "    <tr>\n",
       "      <th>4</th>\n",
       "      <td>23.143999</td>\n",
       "      <td>23.143999</td>\n",
       "      <td>407595</td>\n",
       "      <td>23.143999</td>\n",
       "    </tr>\n",
       "  </tbody>\n",
       "</table>\n",
       "</div>"
      ],
      "text/plain": [
       "   temperature_interpolated  temperature   hours  input_temperature\n",
       "0                 25.044001    25.044001  407591          25.044001\n",
       "1                  9.349383    21.948000  407592         -10.000000\n",
       "2                  4.713851    21.174000  407593         -10.000000\n",
       "3                  6.637488    22.792000  407594         -10.000000\n",
       "4                 23.143999    23.143999  407595          23.143999"
      ]
     },
     "execution_count": 39,
     "metadata": {},
     "output_type": "execute_result"
    }
   ],
   "source": [
    "final.head()"
   ]
  },
  {
   "cell_type": "code",
   "execution_count": 41,
   "id": "e81b9ffa-fa31-44f9-830f-a4b7f0c9b8d6",
   "metadata": {},
   "outputs": [
    {
     "data": {
      "text/plain": [
       "count    17412.000000\n",
       "mean         1.747997\n",
       "std          3.045184\n",
       "min          0.000000\n",
       "25%          0.000000\n",
       "50%          0.000000\n",
       "75%          2.391000\n",
       "max         33.052479\n",
       "dtype: float64"
      ]
     },
     "execution_count": 41,
     "metadata": {},
     "output_type": "execute_result"
    }
   ],
   "source": [
    "abs(final[\"temperature_interpolated\"]-final[\"temperature\"]).describe()"
   ]
  },
  {
   "cell_type": "markdown",
   "id": "7674e0df-24b0-4abb-aab8-d66506f49766",
   "metadata": {},
   "source": [
    "# CONCLUSION\n",
    "Even with small training it seems that the interpolation method achieves much better results as compared to either of the averages."
   ]
  },
  {
   "cell_type": "code",
   "execution_count": null,
   "id": "6fa06a80-f407-44cf-aba3-85e26cdc4769",
   "metadata": {},
   "outputs": [],
   "source": []
  }
 ],
 "metadata": {
  "kernelspec": {
   "display_name": "Python 3 (ipykernel)",
   "language": "python",
   "name": "python3"
  },
  "language_info": {
   "codemirror_mode": {
    "name": "ipython",
    "version": 3
   },
   "file_extension": ".py",
   "mimetype": "text/x-python",
   "name": "python",
   "nbconvert_exporter": "python",
   "pygments_lexer": "ipython3",
   "version": "3.8.10"
  }
 },
 "nbformat": 4,
 "nbformat_minor": 5
}
