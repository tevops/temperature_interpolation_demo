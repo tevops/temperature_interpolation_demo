{
 "cells": [
  {
   "cell_type": "markdown",
   "id": "4a5378e9-3c4b-421c-97a9-01157ae26c8f",
   "metadata": {},
   "source": [
    "# PART I"
   ]
  },
  {
   "cell_type": "markdown",
   "id": "fe18f0a1-c9bb-46fd-8ae6-91f9d3027b22",
   "metadata": {},
   "source": [
    "## THE DATASETS\n",
    "\n",
    "For this excersize two datasets were used. The values are real measurments.\n",
    "\n",
    "### - room temperature\n",
    "A real room temperature dataset was obtained from this [ROOM TEMPERATURE REPO](https://github.com/johnmyleswhite/room_temperatures). <br>The temerature for 'Room 1' will be used hereinafter for all demos.\n",
    "\n",
    "### - efficient transfomer\n",
    "Another dataset, from the [Beyond Efficient Transformer paper](https://arxiv.org/pdf/2012.07436) obtained from\n",
    "[ET REPO](https://github.com/zhouhaoyi/ETDataset)"
   ]
  },
  {
   "cell_type": "code",
   "execution_count": 1,
   "id": "00e7ea7c-1fac-42c2-8a20-3b885c7d1c9a",
   "metadata": {},
   "outputs": [],
   "source": [
    "# OBTAINING THE DATA\n",
    "import pandas as pd\n",
    "import numpy as np\n",
    "\n",
    "from temperature_calculator.utils.datasets import (\n",
    "    load_room_temperature_data, \n",
    "    load_et_temperature_data,\n",
    ")\n",
    "\n",
    "from temperature_calculator.data.averages import *\n",
    "from temperature_calculator.utils.constants import *\n",
    "from temperature_calculator.data.preprocessing import *\n",
    "from temperature_calculator.data.postprocessing import *\n",
    "from temperature_calculator.models.training import *"
   ]
  },
  {
   "cell_type": "markdown",
   "id": "8da5de68-0031-43de-9e7d-ed98e8e2231a",
   "metadata": {},
   "source": [
    "Demo of <b>SIMPLE</b> and <b>WEIGHTED</b> averages on \n",
    "### - room temperature\n"
   ]
  },
  {
   "cell_type": "code",
   "execution_count": 2,
   "id": "d1441669-5594-4fd9-9e86-832074731375",
   "metadata": {},
   "outputs": [
    {
     "name": "stderr",
     "output_type": "stream",
     "text": [
      "INFO:Temperature calculator:LOADING DATA FROM  datasets/room_temperatures/temperatures.csv\n",
      "INFO:Temperature calculator:CONVERTING TIMESTAMP TO NUMERIC\n"
     ]
    },
    {
     "data": {
      "text/html": [
       "<div>\n",
       "<style scoped>\n",
       "    .dataframe tbody tr th:only-of-type {\n",
       "        vertical-align: middle;\n",
       "    }\n",
       "\n",
       "    .dataframe tbody tr th {\n",
       "        vertical-align: top;\n",
       "    }\n",
       "\n",
       "    .dataframe thead th {\n",
       "        text-align: right;\n",
       "    }\n",
       "</style>\n",
       "<table border=\"1\" class=\"dataframe\">\n",
       "  <thead>\n",
       "    <tr style=\"text-align: right;\">\n",
       "      <th></th>\n",
       "      <th>time</th>\n",
       "      <th>temperature</th>\n",
       "      <th>minutes</th>\n",
       "    </tr>\n",
       "  </thead>\n",
       "  <tbody>\n",
       "    <tr>\n",
       "      <th>0</th>\n",
       "      <td>2018-09-17 00:00:00</td>\n",
       "      <td>79.11</td>\n",
       "      <td>25618800.0</td>\n",
       "    </tr>\n",
       "    <tr>\n",
       "      <th>1</th>\n",
       "      <td>2018-09-17 00:01:00</td>\n",
       "      <td>79.11</td>\n",
       "      <td>25618801.0</td>\n",
       "    </tr>\n",
       "    <tr>\n",
       "      <th>2</th>\n",
       "      <td>2018-09-17 00:02:00</td>\n",
       "      <td>79.11</td>\n",
       "      <td>25618802.0</td>\n",
       "    </tr>\n",
       "    <tr>\n",
       "      <th>3</th>\n",
       "      <td>2018-09-17 00:03:00</td>\n",
       "      <td>79.07</td>\n",
       "      <td>25618803.0</td>\n",
       "    </tr>\n",
       "    <tr>\n",
       "      <th>4</th>\n",
       "      <td>2018-09-17 00:04:00</td>\n",
       "      <td>79.05</td>\n",
       "      <td>25618804.0</td>\n",
       "    </tr>\n",
       "  </tbody>\n",
       "</table>\n",
       "</div>"
      ],
      "text/plain": [
       "                  time  temperature     minutes\n",
       "0  2018-09-17 00:00:00        79.11  25618800.0\n",
       "1  2018-09-17 00:01:00        79.11  25618801.0\n",
       "2  2018-09-17 00:02:00        79.11  25618802.0\n",
       "3  2018-09-17 00:03:00        79.07  25618803.0\n",
       "4  2018-09-17 00:04:00        79.05  25618804.0"
      ]
     },
     "execution_count": 2,
     "metadata": {},
     "output_type": "execute_result"
    }
   ],
   "source": [
    "room_temperature = convert_timestamp(\n",
    "    df=load_room_temperature_data(),\n",
    "    time_column_source = TIME,\n",
    "    time_column_target = MINUTES,\n",
    "    verbose=True,\n",
    ")\n",
    "room_temperature.head()"
   ]
  },
  {
   "cell_type": "code",
   "execution_count": 3,
   "id": "026f3839-e2b5-4dcc-9767-a05e18ddcf39",
   "metadata": {},
   "outputs": [
    {
     "data": {
      "text/plain": [
       "1.0    43198\n",
       "2.0        1\n",
       "Name: minutes, dtype: int64"
      ]
     },
     "execution_count": 3,
     "metadata": {},
     "output_type": "execute_result"
    }
   ],
   "source": [
    "# INDEED THE FULL DATASET IS IN MINTUE INTENSITY\n",
    "room_temperature[MINUTES].diff().value_counts()"
   ]
  },
  {
   "cell_type": "code",
   "execution_count": 4,
   "id": "88c97997-151f-4f4d-bf35-1b3c7ebab744",
   "metadata": {},
   "outputs": [
    {
     "name": "stderr",
     "output_type": "stream",
     "text": [
      "INFO:Temperature calculator:GENERATING NON-EQUIDISTANT SAMPLE\n",
      "INFO:Temperature calculator:DISTRIBUTION OF TIME GAPS\n",
      "|\tGAP\t|\tCOUNT\n",
      "------------------------------\n",
      "|\t7.0\t|\t43\n",
      "|\t4.0\t|\t39\n",
      "|\t8.0\t|\t39\n",
      "|\t1.0\t|\t38\n",
      "|\t10.0\t|\t37\n",
      "|\t6.0\t|\t36\n",
      "|\t9.0\t|\t34\n",
      "|\t2.0\t|\t33\n",
      "|\t11.0\t|\t32\n",
      "|\t13.0\t|\t31\n",
      "|\t16.0\t|\t30\n",
      "|\t3.0\t|\t30\n",
      "|\t12.0\t|\t28\n",
      "|\t18.0\t|\t27\n",
      "|\t17.0\t|\t26\n",
      "|\t15.0\t|\t24\n",
      "|\t21.0\t|\t23\n",
      "|\t31.0\t|\t23\n",
      "|\t19.0\t|\t23\n",
      "|\t5.0\t|\t22\n",
      "|\t35.0\t|\t21\n",
      "|\t20.0\t|\t21\n",
      "|\t23.0\t|\t20\n",
      "|\t22.0\t|\t18\n",
      "|\t26.0\t|\t18\n",
      "|\t29.0\t|\t18\n",
      "|\t28.0\t|\t18\n",
      "|\t14.0\t|\t17\n",
      "|\t30.0\t|\t16\n",
      "|\t24.0\t|\t16\n",
      "|\t27.0\t|\t15\n",
      "|\t45.0\t|\t15\n",
      "|\t38.0\t|\t14\n",
      "|\t34.0\t|\t14\n",
      "|\t46.0\t|\t14\n",
      "|\t40.0\t|\t13\n",
      "|\t25.0\t|\t13\n",
      "|\t48.0\t|\t13\n",
      "|\t42.0\t|\t12\n",
      "|\t37.0\t|\t12\n",
      "|\t43.0\t|\t12\n",
      "|\t49.0\t|\t11\n",
      "|\t36.0\t|\t11\n",
      "|\t57.0\t|\t10\n",
      "|\t44.0\t|\t10\n",
      "|\t39.0\t|\t10\n",
      "|\t61.0\t|\t9\n",
      "|\t56.0\t|\t9\n",
      "|\t47.0\t|\t9\n",
      "|\t54.0\t|\t8\n",
      "|\t33.0\t|\t8\n",
      "|\t53.0\t|\t8\n",
      "|\t50.0\t|\t7\n",
      "|\t58.0\t|\t7\n",
      "|\t64.0\t|\t6\n",
      "|\t78.0\t|\t6\n",
      "|\t63.0\t|\t6\n",
      "|\t32.0\t|\t6\n",
      "|\t75.0\t|\t6\n",
      "|\t55.0\t|\t6\n",
      "|\t66.0\t|\t6\n",
      "|\t52.0\t|\t6\n",
      "|\t62.0\t|\t6\n",
      "|\t60.0\t|\t5\n",
      "|\t68.0\t|\t5\n",
      "|\t71.0\t|\t5\n",
      "|\t41.0\t|\t5\n",
      "|\t69.0\t|\t5\n",
      "|\t74.0\t|\t5\n",
      "|\t65.0\t|\t5\n",
      "|\t82.0\t|\t5\n",
      "|\t70.0\t|\t5\n",
      "|\t87.0\t|\t4\n",
      "|\t114.0\t|\t4\n",
      "|\t51.0\t|\t4\n",
      "|\t79.0\t|\t4\n",
      "|\t84.0\t|\t4\n",
      "|\t59.0\t|\t4\n",
      "|\t73.0\t|\t4\n",
      "|\t97.0\t|\t3\n",
      "|\t142.0\t|\t3\n",
      "|\t72.0\t|\t3\n",
      "|\t67.0\t|\t3\n",
      "|\t126.0\t|\t3\n",
      "|\t76.0\t|\t3\n",
      "|\t112.0\t|\t3\n",
      "|\t117.0\t|\t3\n",
      "|\t99.0\t|\t3\n",
      "|\t94.0\t|\t3\n",
      "|\t91.0\t|\t3\n",
      "|\t77.0\t|\t3\n",
      "|\t148.0\t|\t2\n",
      "|\t103.0\t|\t2\n",
      "|\t136.0\t|\t2\n",
      "|\t141.0\t|\t2\n",
      "|\t111.0\t|\t2\n",
      "|\t118.0\t|\t2\n",
      "|\t98.0\t|\t2\n",
      "|\t128.0\t|\t2\n",
      "|\t137.0\t|\t2\n",
      "|\t106.0\t|\t2\n",
      "|\t105.0\t|\t2\n",
      "|\t123.0\t|\t2\n",
      "|\t88.0\t|\t2\n",
      "|\t144.0\t|\t2\n",
      "|\t102.0\t|\t2\n",
      "|\t89.0\t|\t2\n",
      "|\t104.0\t|\t2\n",
      "|\t100.0\t|\t1\n",
      "|\t129.0\t|\t1\n",
      "|\t166.0\t|\t1\n",
      "|\t124.0\t|\t1\n",
      "|\t212.0\t|\t1\n",
      "|\t127.0\t|\t1\n",
      "|\t188.0\t|\t1\n",
      "|\t92.0\t|\t1\n",
      "|\t125.0\t|\t1\n",
      "|\t155.0\t|\t1\n",
      "|\t178.0\t|\t1\n",
      "|\t90.0\t|\t1\n",
      "|\t120.0\t|\t1\n",
      "|\t109.0\t|\t1\n",
      "|\t115.0\t|\t1\n",
      "|\t158.0\t|\t1\n",
      "|\t96.0\t|\t1\n",
      "|\t140.0\t|\t1\n",
      "|\t179.0\t|\t1\n",
      "|\t182.0\t|\t1\n",
      "|\t206.0\t|\t1\n",
      "|\t251.0\t|\t1\n",
      "|\t146.0\t|\t1\n",
      "|\t130.0\t|\t1\n",
      "|\t132.0\t|\t1\n",
      "|\t215.0\t|\t1\n",
      "|\t147.0\t|\t1\n",
      "|\t93.0\t|\t1\n",
      "|\t101.0\t|\t1\n",
      "|\t217.0\t|\t1\n",
      "|\t139.0\t|\t1\n",
      "|\t110.0\t|\t1\n",
      "|\t86.0\t|\t1\n"
     ]
    },
    {
     "name": "stdout",
     "output_type": "stream",
     "text": [
      "AVERAGE TEMPERATURE BETWEEN 2018-10-07 07:33:00 AND 2018-10-12 05:56:00 \n",
      "\t - SIMPLE\t 77.28235555555557 \n",
      "\t - WEIGHTED\t 77.24362902083038 \n",
      "\t - REAL VALUE\t 77.24412419036891\n"
     ]
    }
   ],
   "source": [
    "result = calculate_mean_temperatures(\n",
    "    df = room_temperature,\n",
    "    frac=0.03,\n",
    "    time_column=TIME,\n",
    "    numeric_time_column=MINUTES,\n",
    "    temperature_column=TEMPERATURE,\n",
    "    verbose=True,\n",
    "    methods=['wa', 'sa']\n",
    ")"
   ]
  },
  {
   "cell_type": "code",
   "execution_count": 5,
   "id": "e04d81c5-f8a4-4d87-a00b-d133d054d9a7",
   "metadata": {},
   "outputs": [
    {
     "name": "stdout",
     "output_type": "stream",
     "text": [
      "0 / 1000\n",
      "300 / 1000\n",
      "600 / 1000\n",
      "900 / 1000\n"
     ]
    }
   ],
   "source": [
    "results_room_temperature = []\n",
    "log_every = 300\n",
    "ntrials = 1000\n",
    "for i in range(ntrials):\n",
    "    if i/log_every==i//log_every:\n",
    "        print(i,\"/\", ntrials)\n",
    "    results_room_temperature.append(\n",
    "        calculate_mean_temperatures(\n",
    "                df = room_temperature,\n",
    "                frac=0.05,\n",
    "                time_column=TIME,\n",
    "                numeric_time_column=MINUTES,\n",
    "                temperature_column=TEMPERATURE,\n",
    "                verbose=False,\n",
    "                methods=('wa', 'sa')\n",
    "            )\n",
    "    )"
   ]
  },
  {
   "cell_type": "code",
   "execution_count": 6,
   "id": "e034dfb0-2ec0-4836-9771-ef642d1ec3ce",
   "metadata": {},
   "outputs": [
    {
     "name": "stdout",
     "output_type": "stream",
     "text": [
      "# DIFFERENCE BETWEEN SIMPLE MEAN AND REAL MEAN\n",
      "\n",
      "count    1000.000000\n",
      "mean        0.061923\n",
      "std         0.055856\n",
      "min         0.000150\n",
      "25%         0.023848\n",
      "50%         0.047978\n",
      "75%         0.082456\n",
      "max         0.505461\n",
      "Name: diff_rmean_smean, dtype: float64\n",
      "- - - - - - - - - - - - - - - - - - - - - - - - - - - - - - \n",
      "# DIFFERENCE BETWEEN WEIGHTED MEAN AND REAL MEAN\n",
      "\n",
      "count    1000.000000\n",
      "mean        0.012954\n",
      "std         0.018700\n",
      "min         0.000005\n",
      "25%         0.002958\n",
      "50%         0.006635\n",
      "75%         0.015850\n",
      "max         0.239778\n",
      "Name: diff_rmean_wmean, dtype: float64\n"
     ]
    },
    {
     "data": {
      "image/png": "[encoded data removed]",
      "text/plain": [
       "<Figure size 640x480 with 1 Axes>"
      ]
     },
     "metadata": {},
     "output_type": "display_data"
    }
   ],
   "source": [
    "summarize_results(results_room_temperature)"
   ]
  },
  {
   "cell_type": "markdown",
   "id": "06d5e1c0-192e-4b91-8b21-4a116d2a6774",
   "metadata": {
    "jp-MarkdownHeadingCollapsed": true
   },
   "source": [
    "As we see, the room temperature dataset doesn't have huge variablity in general. Still even here it is clear that <b>WEIGHTED MEAN</b> is apparently a better solution, as both in terms of average difference from real values and standard deviation of difference the <b>WEIGHTED MEAN</b> outperforms the <b>SIMPLE MEAN</b>.\n"
   ]
  },
  {
   "cell_type": "markdown",
   "id": "0ee1e99d-9b93-40dc-a618-76e660a55374",
   "metadata": {},
   "source": [
    "A Demo on\n",
    "### - efficient transfomer\n"
   ]
  },
  {
   "cell_type": "code",
   "execution_count": 7,
   "id": "f512d7b5-0fba-4830-82dc-bc654f9e18b8",
   "metadata": {},
   "outputs": [
    {
     "name": "stderr",
     "output_type": "stream",
     "text": [
      "INFO:Temperature calculator:LOADING DATA FROM  datasets/ETDataset/ETT-small/ETTh1.csv\n"
     ]
    },
    {
     "data": {
      "text/html": [
       "<div>\n",
       "<style scoped>\n",
       "    .dataframe tbody tr th:only-of-type {\n",
       "        vertical-align: middle;\n",
       "    }\n",
       "\n",
       "    .dataframe tbody tr th {\n",
       "        vertical-align: top;\n",
       "    }\n",
       "\n",
       "    .dataframe thead th {\n",
       "        text-align: right;\n",
       "    }\n",
       "</style>\n",
       "<table border=\"1\" class=\"dataframe\">\n",
       "  <thead>\n",
       "    <tr style=\"text-align: right;\">\n",
       "      <th></th>\n",
       "      <th>time</th>\n",
       "      <th>temperature</th>\n",
       "    </tr>\n",
       "  </thead>\n",
       "  <tbody>\n",
       "    <tr>\n",
       "      <th>0</th>\n",
       "      <td>2016-07-01 00:00:00</td>\n",
       "      <td>30.531000</td>\n",
       "    </tr>\n",
       "    <tr>\n",
       "      <th>1</th>\n",
       "      <td>2016-07-01 01:00:00</td>\n",
       "      <td>27.787001</td>\n",
       "    </tr>\n",
       "    <tr>\n",
       "      <th>2</th>\n",
       "      <td>2016-07-01 02:00:00</td>\n",
       "      <td>27.787001</td>\n",
       "    </tr>\n",
       "    <tr>\n",
       "      <th>3</th>\n",
       "      <td>2016-07-01 03:00:00</td>\n",
       "      <td>25.044001</td>\n",
       "    </tr>\n",
       "    <tr>\n",
       "      <th>4</th>\n",
       "      <td>2016-07-01 04:00:00</td>\n",
       "      <td>21.948000</td>\n",
       "    </tr>\n",
       "  </tbody>\n",
       "</table>\n",
       "</div>"
      ],
      "text/plain": [
       "                  time  temperature\n",
       "0  2016-07-01 00:00:00    30.531000\n",
       "1  2016-07-01 01:00:00    27.787001\n",
       "2  2016-07-01 02:00:00    27.787001\n",
       "3  2016-07-01 03:00:00    25.044001\n",
       "4  2016-07-01 04:00:00    21.948000"
      ]
     },
     "execution_count": 7,
     "metadata": {},
     "output_type": "execute_result"
    }
   ],
   "source": [
    "ett_dataset = load_et_temperature_data()\n",
    "ett_dataset.head()"
   ]
  },
  {
   "cell_type": "code",
   "execution_count": 8,
   "id": "62ef8d0f-4790-4c46-815b-972f5366adf0",
   "metadata": {},
   "outputs": [
    {
     "name": "stderr",
     "output_type": "stream",
     "text": [
      "INFO:Temperature calculator:CONVERTING TIMESTAMP TO NUMERIC\n"
     ]
    },
    {
     "data": {
      "text/html": [
       "<div>\n",
       "<style scoped>\n",
       "    .dataframe tbody tr th:only-of-type {\n",
       "        vertical-align: middle;\n",
       "    }\n",
       "\n",
       "    .dataframe tbody tr th {\n",
       "        vertical-align: top;\n",
       "    }\n",
       "\n",
       "    .dataframe thead th {\n",
       "        text-align: right;\n",
       "    }\n",
       "</style>\n",
       "<table border=\"1\" class=\"dataframe\">\n",
       "  <thead>\n",
       "    <tr style=\"text-align: right;\">\n",
       "      <th></th>\n",
       "      <th>time</th>\n",
       "      <th>temperature</th>\n",
       "      <th>hours</th>\n",
       "    </tr>\n",
       "  </thead>\n",
       "  <tbody>\n",
       "    <tr>\n",
       "      <th>0</th>\n",
       "      <td>2016-07-01 00:00:00</td>\n",
       "      <td>30.531000</td>\n",
       "      <td>407588.0</td>\n",
       "    </tr>\n",
       "    <tr>\n",
       "      <th>1</th>\n",
       "      <td>2016-07-01 01:00:00</td>\n",
       "      <td>27.787001</td>\n",
       "      <td>407589.0</td>\n",
       "    </tr>\n",
       "    <tr>\n",
       "      <th>2</th>\n",
       "      <td>2016-07-01 02:00:00</td>\n",
       "      <td>27.787001</td>\n",
       "      <td>407590.0</td>\n",
       "    </tr>\n",
       "    <tr>\n",
       "      <th>3</th>\n",
       "      <td>2016-07-01 03:00:00</td>\n",
       "      <td>25.044001</td>\n",
       "      <td>407591.0</td>\n",
       "    </tr>\n",
       "    <tr>\n",
       "      <th>4</th>\n",
       "      <td>2016-07-01 04:00:00</td>\n",
       "      <td>21.948000</td>\n",
       "      <td>407592.0</td>\n",
       "    </tr>\n",
       "  </tbody>\n",
       "</table>\n",
       "</div>"
      ],
      "text/plain": [
       "                  time  temperature     hours\n",
       "0  2016-07-01 00:00:00    30.531000  407588.0\n",
       "1  2016-07-01 01:00:00    27.787001  407589.0\n",
       "2  2016-07-01 02:00:00    27.787001  407590.0\n",
       "3  2016-07-01 03:00:00    25.044001  407591.0\n",
       "4  2016-07-01 04:00:00    21.948000  407592.0"
      ]
     },
     "execution_count": 8,
     "metadata": {},
     "output_type": "execute_result"
    }
   ],
   "source": [
    "ett_dataset = convert_timestamp(\n",
    "    df=ett_dataset,\n",
    "    time_column_source = TIME,\n",
    "    time_column_target = HOURS,\n",
    "    verbose=True,\n",
    "    \n",
    ")\n",
    "ett_dataset.head()"
   ]
  },
  {
   "cell_type": "code",
   "execution_count": 9,
   "id": "993466fc-1b25-426f-b081-bf1b76781299",
   "metadata": {},
   "outputs": [
    {
     "name": "stdout",
     "output_type": "stream",
     "text": [
      "0 / 1000\n",
      "300 / 1000\n",
      "600 / 1000\n",
      "900 / 1000\n"
     ]
    }
   ],
   "source": [
    "results_ett = []\n",
    "log_every = 300\n",
    "ntrials = 1000\n",
    "for i in range(ntrials):\n",
    "    if i/log_every==i//log_every:\n",
    "        print(i,\"/\", ntrials)\n",
    "    results_ett.append(\n",
    "        calculate_mean_temperatures(\n",
    "                df = ett_dataset,\n",
    "                frac=0.2,\n",
    "                time_column=TIME,\n",
    "                numeric_time_column=HOURS,\n",
    "                temperature_column=TEMPERATURE,\n",
    "                verbose=False,\n",
    "                methods=('wa', 'sa'),\n",
    "            )\n",
    "    )"
   ]
  },
  {
   "cell_type": "code",
   "execution_count": 10,
   "id": "e7d29410-8470-444d-8321-c11c8534c8f2",
   "metadata": {},
   "outputs": [
    {
     "name": "stdout",
     "output_type": "stream",
     "text": [
      "# DIFFERENCE BETWEEN SIMPLE MEAN AND REAL MEAN\n",
      "\n",
      "count    1000.000000\n",
      "mean        0.131751\n",
      "std         0.127035\n",
      "min         0.000438\n",
      "25%         0.049976\n",
      "50%         0.098829\n",
      "75%         0.174178\n",
      "max         1.701032\n",
      "Name: diff_rmean_smean, dtype: float64\n",
      "- - - - - - - - - - - - - - - - - - - - - - - - - - - - - - \n",
      "# DIFFERENCE BETWEEN WEIGHTED MEAN AND REAL MEAN\n",
      "\n",
      "count    1000.000000\n",
      "mean        0.059115\n",
      "std         0.095447\n",
      "min         0.000076\n",
      "25%         0.017067\n",
      "50%         0.036492\n",
      "75%         0.073188\n",
      "max         1.816577\n",
      "Name: diff_rmean_wmean, dtype: float64\n"
     ]
    },
    {
     "data": {
      "image/png": "[encoded data removed]",
      "text/plain": [
       "<Figure size 640x480 with 1 Axes>"
      ]
     },
     "metadata": {},
     "output_type": "display_data"
    }
   ],
   "source": [
    "summarize_results(results_ett)"
   ]
  },
  {
   "cell_type": "markdown",
   "id": "795e8dca-d1c4-400d-a249-0448745ea5dc",
   "metadata": {},
   "source": [
    "The same is in Efficient tranformer dataset - although the difference is less severe."
   ]
  },
  {
   "cell_type": "code",
   "execution_count": 11,
   "id": "91450856-4f95-4f03-a8e6-2bfcf9b8f4c7",
   "metadata": {},
   "outputs": [
    {
     "data": {
      "text/plain": [
       "count    43200.000000\n",
       "mean        75.689375\n",
       "std          3.028870\n",
       "min         66.900000\n",
       "25%         74.080000\n",
       "50%         76.530000\n",
       "75%         77.900000\n",
       "max         80.800000\n",
       "Name: temperature, dtype: float64"
      ]
     },
     "execution_count": 11,
     "metadata": {},
     "output_type": "execute_result"
    }
   ],
   "source": [
    "room_temperature.temperature.describe()"
   ]
  },
  {
   "cell_type": "code",
   "execution_count": 12,
   "id": "8ce52f5d-edda-4eed-b198-eabae45239e0",
   "metadata": {},
   "outputs": [
    {
     "data": {
      "text/plain": [
       "count    17420.000000\n",
       "mean        13.324672\n",
       "std          8.566946\n",
       "min         -4.080000\n",
       "25%          6.964000\n",
       "50%         11.396000\n",
       "75%         18.079000\n",
       "max         46.007000\n",
       "Name: temperature, dtype: float64"
      ]
     },
     "execution_count": 12,
     "metadata": {},
     "output_type": "execute_result"
    }
   ],
   "source": [
    "ett_dataset.temperature.describe()"
   ]
  },
  {
   "cell_type": "markdown",
   "id": "cc072585-e5b3-443e-8e22-27b93149c8e6",
   "metadata": {},
   "source": [
    "Although the variablity in <b>efficient transformer</b> dataset is higher, however, the time scale is less sparse. It would be interesting to see the difference on datasets on processes like metal melting/cooling or places with more extreme variablity and material state change - where the measurements would capture the characteristic heating/cooling curves - however I don't yet have such a dataset at hand."
   ]
  },
  {
   "cell_type": "code",
   "execution_count": 13,
   "id": "74782157-94fc-44fd-a74d-f64a672c8d89",
   "metadata": {},
   "outputs": [],
   "source": [
    "# FIN"
   ]
  }
 ],
 "metadata": {
  "kernelspec": {
   "display_name": "Python 3 (ipykernel)",
   "language": "python",
   "name": "python3"
  },
  "language_info": {
   "codemirror_mode": {
    "name": "ipython",
    "version": 3
   },
   "file_extension": ".py",
   "mimetype": "text/x-python",
   "name": "python",
   "nbconvert_exporter": "python",
   "pygments_lexer": "ipython3",
   "version": "3.8.10"
  }
 },
 "nbformat": 4,
 "nbformat_minor": 5
}
